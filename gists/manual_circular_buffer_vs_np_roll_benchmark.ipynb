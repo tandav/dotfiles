{
 "cells": [
  {
   "cell_type": "code",
   "execution_count": null,
   "metadata": {},
   "outputs": [],
   "source": [
    "import time\n",
    "import numpy as np"
   ]
  },
  {
   "cell_type": "code",
   "execution_count": 241,
   "metadata": {},
   "outputs": [],
   "source": [
    "class CircularBuffer:\n",
    "    '''\n",
    "    works only if chunks of data aligns into buffer\n",
    "    (the most right chunk should be able to put without breaks into 2 smallest)\n",
    "    '''\n",
    "    def __init__(self, n, dtype=np.uint16):\n",
    "        self.buffer = np.empty(n, dtype)\n",
    "        self.cursor = 0 # pointer to most (recently collected buffer index) + 1\n",
    "    \n",
    "    def append(self, data):\n",
    "        data_length = data.shape[0]\n",
    "        self.buffer[self.cursor : self.cursor + data_length] = data\n",
    "        self.cursor = (self.cursor + data_length) % self.buffer.shape[0]\n",
    "    \n",
    "    def most_recent(self, n):\n",
    "        if self.cursor - n < 0:\n",
    "            data = np.empty(n, self.buffer.dtype)\n",
    "            data[:n - self.cursor] = self.buffer[self.cursor - n:]\n",
    "            data[n - self.cursor:] = self.buffer[:self.cursor]\n",
    "        else:\n",
    "            data = self.buffer[self.cursor - n:self.cursor].copy()\n",
    "        return data\n",
    "    \n",
    "    def __repr__(self):\n",
    "        return repr(self.buffer)"
   ]
  },
  {
   "cell_type": "code",
   "execution_count": 166,
   "metadata": {},
   "outputs": [],
   "source": [
    "DTYPE = np.uint16"
   ]
  },
  {
   "cell_type": "code",
   "execution_count": 215,
   "metadata": {
    "scrolled": true
   },
   "outputs": [
    {
     "data": {
      "text/plain": [
       "array([[50, 29, 20],\n",
       "       [52,  4, 47],\n",
       "       [11, 41, 83]], dtype=uint16)"
      ]
     },
     "execution_count": 215,
     "metadata": {},
     "output_type": "execute_result"
    }
   ],
   "source": [
    "random_arrays = np.random.randint(0, 100, size=(100000, 3), dtype=DTYPE)\n",
    "random_arrays[:3]"
   ]
  },
  {
   "cell_type": "code",
   "execution_count": 244,
   "metadata": {},
   "outputs": [
    {
     "name": "stdout",
     "output_type": "stream",
     "text": [
      "CircularBuffer 0.179459810256958\n",
      "np.roll        2.0980308055877686\n",
      "[62 18 49 85 63 90 31 94]\n",
      "[62 18 49 85 63 90 31 94]\n"
     ]
    },
    {
     "data": {
      "text/plain": [
       "True"
      ]
     },
     "execution_count": 244,
     "metadata": {},
     "output_type": "execute_result"
    }
   ],
   "source": [
    "buffer_size = 120\n",
    "\n",
    "assert buffer_size % random_arrays.shape[1] == 0, 'chunks of data not aligns into buffer'\n",
    "\n",
    "x = CircularBuffer(buffer_size, DTYPE)\n",
    "\n",
    "circ_buff_start = time.time()\n",
    "for random_array in random_arrays:\n",
    "    x.append(random_array)\n",
    "print(f'CircularBuffer {time.time() - circ_buff_start}')\n",
    "    \n",
    "np_roll_start = time.time()\n",
    "y = np.empty(buffer_size, DTYPE)\n",
    "\n",
    "for random_array in random_arrays:\n",
    "    y = np.roll(y, -len(random_array))\n",
    "print(f'np.roll        {time.time() - np_roll_start}')\n",
    "\n",
    "\n",
    "mr = 8\n",
    "print(x.most_recent(mr))\n",
    "print(y[-mr:])\n",
    "np.array_equal(x.most_recent(mr), y[-mr:])"
   ]
  }
 ],
 "metadata": {
  "kernelspec": {
   "display_name": "Python 3",
   "language": "python",
   "name": "python3"
  },
  "language_info": {
   "codemirror_mode": {
    "name": "ipython",
    "version": 3
   },
   "file_extension": ".py",
   "mimetype": "text/x-python",
   "name": "python",
   "nbconvert_exporter": "python",
   "pygments_lexer": "ipython3",
   "version": "3.7.2"
  }
 },
 "nbformat": 4,
 "nbformat_minor": 2
}
