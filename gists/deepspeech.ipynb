{
  "nbformat": 4,
  "nbformat_minor": 0,
  "metadata": {
    "colab": {
      "name": "deepspeech.ipynb",
      "version": "0.3.2",
      "provenance": [],
      "collapsed_sections": [],
      "include_colab_link": true
    },
    "kernelspec": {
      "name": "python3",
      "display_name": "Python 3"
    },
    "accelerator": "GPU"
  },
  "cells": [
    {
      "cell_type": "markdown",
      "metadata": {
        "id": "view-in-github",
        "colab_type": "text"
      },
      "source": [
        "<a href=\"https://colab.research.google.com/github/tandav/gists/blob/master/deepspeech.ipynb\" target=\"_parent\"><img src=\"https://colab.research.google.com/assets/colab-badge.svg\" alt=\"Open In Colab\"/></a>"
      ]
    },
    {
      "metadata": {
        "id": "kV68ojZ_jIAa",
        "colab_type": "code",
        "colab": {}
      },
      "cell_type": "code",
      "source": [
        "!pip install deepspeech-gpu==0.5.0a4\n",
        "!git clone https://github.com/mozilla/DeepSpeech /DeepSpeech\n",
        "    \n",
        "import os\n",
        "os.chdir('/DeepSpeech')\n",
        "!pip3 install -r requirements.txt\n",
        "\n",
        "!pip3 install $(python3 util/taskcluster.py --decoder)\n",
        "!git clone https://github.com/GeorgeFedoseev/DeepSpeech /GeorgeFedoseevDeepSpeech\n",
        "    \n",
        "!mv /DeepSpeech/data /DeepSpeech/moz_data\n",
        "!mv /GeorgeFedoseevDeepSpeech/data /DeepSpeech/data"
      ],
      "execution_count": 0,
      "outputs": []
    },
    {
      "metadata": {
        "id": "ctEtjDEHeW-l",
        "colab_type": "code",
        "colab": {}
      },
      "cell_type": "code",
      "source": [
        "# Code to read csv file into Colaboratory:\n",
        "!pip install -U -q PyDrive\n",
        "from pydrive.auth import GoogleAuth\n",
        "from pydrive.drive import GoogleDrive\n",
        "from google.colab import auth\n",
        "from oauth2client.client import GoogleCredentials\n",
        "# Authenticate and create the PyDrive client.\n",
        "auth.authenticate_user()\n",
        "gauth = GoogleAuth()\n",
        "gauth.credentials = GoogleCredentials.get_application_default()\n",
        "drive = GoogleDrive(gauth)"
      ],
      "execution_count": 0,
      "outputs": []
    },
    {
      "metadata": {
        "id": "kFwUSOlZenEP",
        "colab_type": "code",
        "colab": {}
      },
      "cell_type": "code",
      "source": [
        "def download_gdrive_file(file_id):\n",
        "    '''\n",
        "    example file_id:\n",
        "    1FdiUVpef4cVKnB8noG4BUjVTSwaS9HfA\n",
        "    '''\n",
        "    gfile = drive.CreateFile({'id': file_id})\n",
        "    gfile.FetchMetadata()\n",
        "    gfile_name = gfile['title']\n",
        "    gfile.GetContentFile(gfile_name)"
      ],
      "execution_count": 0,
      "outputs": []
    },
    {
      "metadata": {
        "id": "C24EHnAO_u25",
        "colab_type": "code",
        "outputId": "307b5746-fac2-4f45-e202-dc7707dccb4b",
        "colab": {
          "base_uri": "https://localhost:8080/",
          "height": 119
        }
      },
      "cell_type": "code",
      "source": [
        "download_gdrive_file('1FdiUVpef4cVKnB8noG4BUjVTSwaS9HfA') # LM-mixed-yt-echo-wiki-o5-prune2-24Jun18 (1GB)\n",
        "!tar xvfz LM-mixed-yt-echo-wiki-o5-prune2-24Jun18.tar.gz"
      ],
      "execution_count": 0,
      "outputs": [
        {
          "output_type": "stream",
          "text": [
            "mixed-yt-echo-wiki-o5-prune2-24Jun18/\n",
            "mixed-yt-echo-wiki-o5-prune2-24Jun18/vocabulary.txt\n",
            "mixed-yt-echo-wiki-o5-prune2-24Jun18/lm.binary\n",
            "mixed-yt-echo-wiki-o5-prune2-24Jun18/trie\n",
            "mixed-yt-echo-wiki-o5-prune2-24Jun18/words.arpa\n",
            "mixed-yt-echo-wiki-o5-prune2-24Jun18/alphabet.txt\n"
          ],
          "name": "stdout"
        }
      ]
    },
    {
      "metadata": {
        "id": "5CwSOm2wiUt1",
        "colab_type": "code",
        "outputId": "054e1bac-dd16-474a-e420-0cf43cf4d540",
        "colab": {
          "base_uri": "https://localhost:8080/",
          "height": 34
        }
      },
      "cell_type": "code",
      "source": [
        "import requests\n",
        "\n",
        "def download_file_from_google_drive(id, destination):\n",
        "    def get_confirm_token(response):\n",
        "        for key, value in response.cookies.items():\n",
        "            if key.startswith('download_warning'):\n",
        "                return value\n",
        "\n",
        "        return None\n",
        "\n",
        "    def save_response_content(response, destination):\n",
        "        CHUNK_SIZE = 32768\n",
        "\n",
        "        with open(destination, \"wb\") as f:\n",
        "            for chunk in response.iter_content(CHUNK_SIZE):\n",
        "                if chunk: # filter out keep-alive new chunks\n",
        "                    f.write(chunk)\n",
        "#                     print('.')\n",
        "\n",
        "    URL = \"https://docs.google.com/uc?export=download\"\n",
        "\n",
        "    session = requests.Session()\n",
        "\n",
        "    response = session.get(URL, params = { 'id' : id }, stream = True)\n",
        "    token = get_confirm_token(response)\n",
        "\n",
        "    if token:\n",
        "        params = { 'id' : id, 'confirm' : token }\n",
        "        response = session.get(URL, params = params, stream = True)\n",
        "\n",
        "    save_response_content(response, destination)    \n",
        "\n",
        "\n",
        "\n",
        "file_id = '12WUh8REDuhOAQIISF7hBldM0mhxtDpE0'\n",
        "destination = 'yt-vad-650-clean.tar.gz'\n",
        "download_file_from_google_drive(file_id, destination)\n",
        "\n",
        "!tar xfz yt-vad-650-clean.tar.gz"
      ],
      "execution_count": 0,
      "outputs": [
        {
          "output_type": "stream",
          "text": [
            "tar: Removing leading `/' from member names\n"
          ],
          "name": "stdout"
        }
      ]
    },
    {
      "metadata": {
        "id": "6ivdcmvi_wpq",
        "colab_type": "code",
        "colab": {}
      },
      "cell_type": "code",
      "source": [
        "!mv /DeepSpeech/headless/shared/Deep-Speech-Assets/DATASETS /datasets"
      ],
      "execution_count": 0,
      "outputs": []
    },
    {
      "metadata": {
        "id": "_y4QnuszZ_nE",
        "colab_type": "code",
        "outputId": "b5fc5eb1-e5df-4994-c9df-1c4fbce5f6b6",
        "colab": {
          "base_uri": "https://localhost:8080/",
          "height": 34
        }
      },
      "cell_type": "code",
      "source": [
        "(0.1 + 0.35)/2"
      ],
      "execution_count": 0,
      "outputs": [
        {
          "output_type": "execute_result",
          "data": {
            "text/plain": [
              "0.22499999999999998"
            ]
          },
          "metadata": {
            "tags": []
          },
          "execution_count": 1
        }
      ]
    },
    {
      "metadata": {
        "id": "ChpnWNYI7xz7",
        "colab_type": "code",
        "outputId": "595cef53-26ba-46f8-8b9a-73f7f71afb09",
        "colab": {
          "base_uri": "https://localhost:8080/",
          "height": 68
        }
      },
      "cell_type": "code",
      "source": [
        "import pandas as pd\n",
        "\n",
        "# frac = 0.1  # ok \n",
        "# frac = 0.35 # killed\n",
        "# frac = 0.5  # killed\n",
        "# frac = 0.22\n",
        "\n",
        "frac = 0.001\n",
        "\n",
        "pd.read_csv('/datasets/yt-vad-650-clean/yt-vad-650-clean-train.csv').sample(frac=frac).to_csv('/datasets/yt-vad-650-clean/subsample-train.csv', index=False)\n",
        "pd.read_csv('/datasets/yt-vad-650-clean/yt-vad-650-clean-dev.csv').sample(frac=frac).to_csv('/datasets/yt-vad-650-clean/subsample-dev.csv', index=False)\n",
        "pd.read_csv('/datasets/yt-vad-650-clean/yt-vad-650-clean-test.csv').sample(frac=frac).to_csv('/datasets/yt-vad-650-clean/subsample-test.csv', index=False)\n",
        "!wc -l /datasets/yt-vad-650-clean/subsample-train.csv\n",
        "!wc -l /datasets/yt-vad-650-clean/subsample-dev.csv\n",
        "!wc -l /datasets/yt-vad-650-clean/subsample-test.csv"
      ],
      "execution_count": 0,
      "outputs": [
        {
          "output_type": "stream",
          "text": [
            "302 /datasets/yt-vad-650-clean/subsample-train.csv\n",
            "29 /datasets/yt-vad-650-clean/subsample-dev.csv\n",
            "29 /datasets/yt-vad-650-clean/subsample-test.csv\n"
          ],
          "name": "stdout"
        }
      ]
    },
    {
      "metadata": {
        "id": "AHbI-Gq8qnuS",
        "colab_type": "code",
        "colab": {}
      },
      "cell_type": "code",
      "source": [
        "# !python DeepSpeech.py --helpfull"
      ],
      "execution_count": 0,
      "outputs": []
    },
    {
      "metadata": {
        "id": "oITE1z1Z2hWf",
        "colab_type": "code",
        "outputId": "1a3d890e-208d-45b9-b615-946c0141b134",
        "colab": {
          "base_uri": "https://localhost:8080/",
          "height": 768
        }
      },
      "cell_type": "code",
      "source": [
        "#   --train_files \"/DeepSpeech/data/tiny-dataset/tiny-train.csv\" \\\n",
        "#   --dev_files \"/DeepSpeech/data/tiny-dataset/tiny-dev.csv\" \\\n",
        "#   --test_files \"/DeepSpeech/data/tiny-dataset/tiny-test.csv\" \\\n",
        "\n",
        "  \n",
        "#   --lm_trie_path '/DeepSpeech/mixed-yt-echo-wiki-o5-prune2-24Jun18/trie' \\\n",
        "ex = '''\n",
        "#!/bin/sh\n",
        "set -xe\n",
        "if [ ! -f DeepSpeech.py ]; then\n",
        "    echo \"Please make sure you run this from DeepSpeech's top level directory.\"\n",
        "    exit 1\n",
        "fi;\n",
        "\n",
        "\n",
        "# kinda wrecked it (made all numbers small af)\n",
        "\n",
        "python -u DeepSpeech.py \\\n",
        "  --train_files \"/datasets/yt-vad-650-clean/subsample-train.csv\" \\\n",
        "  --dev_files \"/datasets/yt-vad-650-clean/subsample-dev.csv\" \\\n",
        "  --test_files \"/datasets/yt-vad-650-clean/subsample-test.csv\" \\\n",
        "  --train_batch_size 1 \\ob\n",
        "  --dev_batch_size 1 \\\n",
        "  --test_batch_size 1 \\\n",
        "  --learning_rate 0.0001 \\\n",
        "  --epoch 1 \\\n",
        "  --display_step 0 \\\n",
        "  --validation_step 1 \\\n",
        "  --dropout_rate 0.3 \\\n",
        "  --default_stddev 0.046875 \\\n",
        "  --n_hidden 512 \\\n",
        "  --checkpoint_dir /deep_checkpoints/ \\\n",
        "  --export_dir /deep_export/ \\\n",
        "  --log_level 2 \\\n",
        "  --report_count 3 \\\n",
        "  --xla=False \\\n",
        "  --use_warpctc=True \\\n",
        "  --lm_binary_path '/DeepSpeech/mixed-yt-echo-wiki-o5-prune2-24Jun18/lm.binary' \\\n",
        "'''\n",
        "\n",
        "with open('my_train.sh', 'w') as f:\n",
        "    f.write(ex)\n",
        "!bash my_train.sh"
      ],
      "execution_count": 0,
      "outputs": [
        {
          "output_type": "stream",
          "text": [
            "+ '[' '!' -f DeepSpeech.py ']'\n",
            "+ python -u DeepSpeech.py --train_files /datasets/yt-vad-650-clean/subsample-train.csv --dev_files /datasets/yt-vad-650-clean/subsample-dev.csv --test_files /datasets/yt-vad-650-clean/subsample-test.csv --train_batch_size 1 --dev_batch_size 1 --test_batch_size 1 --learning_rate 0.0001 --epoch 1 --display_step 0 --validation_step 1 --dropout_rate 0.3 --default_stddev 0.046875 --n_hidden 512 --checkpoint_dir /deep_checkpoints/ --export_dir /deep_export/ --log_level 2 --report_count 3 --xla=False --use_warpctc=True --lm_binary_path /DeepSpeech/mixed-yt-echo-wiki-o5-prune2-24Jun18/lm.binary\n",
            "WARNING:tensorflow:From /usr/local/lib/python3.6/dist-packages/tensorflow/python/framework/op_def_library.py:263: colocate_with (from tensorflow.python.framework.ops) is deprecated and will be removed in a future version.\n",
            "Instructions for updating:\n",
            "Colocations handled automatically by placer.\n",
            "Preprocessing ['/datasets/yt-vad-650-clean/subsample-train.csv']\n",
            "Preprocessing done\n",
            "Preprocessing ['/datasets/yt-vad-650-clean/subsample-dev.csv']\n",
            "Preprocessing done\n",
            "WARNING:tensorflow:From /usr/local/lib/python3.6/dist-packages/tensorflow/contrib/rnn/python/ops/lstm_ops.py:696: to_int64 (from tensorflow.python.ops.math_ops) is deprecated and will be removed in a future version.\n",
            "Instructions for updating:\n",
            "Use tf.cast instead.\n",
            "100% (301 of 301) |#######################| Elapsed Time: 0:00:41 Time:  0:00:41\n",
            "100% (28 of 28) |#########################| Elapsed Time: 0:00:00 Time:  0:00:00\n",
            "Preprocessing ['/datasets/yt-vad-650-clean/subsample-test.csv']\n",
            "Preprocessing done\n",
            "WARNING:tensorflow:From /usr/local/lib/python3.6/dist-packages/tensorflow/python/training/saver.py:1266: checkpoint_exists (from tensorflow.python.training.checkpoint_management) is deprecated and will be removed in a future version.\n",
            "Instructions for updating:\n",
            "Use standard file APIs to check for files with this prefix.\n",
            "Computing acoustic model predictions...\n",
            "100% (28 of 28) |#########################| Elapsed Time: 0:00:01 Time:  0:00:01\n",
            "Decoding predictions...\n",
            "100% (28 of 28) |#########################| Elapsed Time: 0:00:32 Time:  0:00:32\n",
            "Test - WER: 0.992519, CER: 0.962453, loss: 263.292419\n",
            "--------------------------------------------------------------------------------\n",
            "WER: 1.000000, CER: 38.000000, loss: 134.834366\n",
            " - src: \"анна-мария лис джули адам марк александр\"\n",
            " - res: \"он \"\n",
            "--------------------------------------------------------------------------------\n",
            "WER: 1.000000, CER: 46.000000, loss: 145.995361\n",
            " - src: \"она стала мировой веке у ребенка нет собственного\"\n",
            " - res: \"он \"\n",
            "--------------------------------------------------------------------------------\n",
            "WER: 1.000000, CER: 46.000000, loss: 158.089218\n",
            " - src: \"сам создал как бы своей речью в центр избиркоме и\"\n",
            " - res: \"он \"\n",
            "--------------------------------------------------------------------------------\n",
            "WARNING:tensorflow:From /usr/local/lib/python3.6/dist-packages/tensorflow/python/tools/freeze_graph.py:232: convert_variables_to_constants (from tensorflow.python.framework.graph_util_impl) is deprecated and will be removed in a future version.\n",
            "Instructions for updating:\n",
            "Use tf.compat.v1.graph_util.convert_variables_to_constants\n",
            "WARNING:tensorflow:From /usr/local/lib/python3.6/dist-packages/tensorflow/python/framework/graph_util_impl.py:245: extract_sub_graph (from tensorflow.python.framework.graph_util_impl) is deprecated and will be removed in a future version.\n",
            "Instructions for updating:\n",
            "Use tf.compat.v1.graph_util.extract_sub_graph\n"
          ],
          "name": "stdout"
        }
      ]
    },
    {
      "metadata": {
        "colab_type": "code",
        "outputId": "90cdac36-7e29-408c-b8c0-28a390113902",
        "id": "ah6nzgFVzlrp",
        "colab": {
          "base_uri": "https://localhost:8080/",
          "height": 204
        }
      },
      "cell_type": "code",
      "source": [
        "import datetime\n",
        "timestamp = str(datetime.datetime.now()).replace(' ', '__')\n",
        "zipname = f'deep_checkpoints__{timestamp}.zip'\n",
        "\n",
        "!zip -r {zipname} /deep_checkpoints\n",
        "\n",
        "gdrive_file_to_upload = zipname\n",
        "\n",
        "# Create & upload a file.\n",
        "uploaded = drive.CreateFile({'title': gdrive_file_to_upload})\n",
        "uploaded.SetContentFile(gdrive_file_to_upload)\n",
        "uploaded.Upload()\n",
        "print('Uploaded file with ID {}'.format(uploaded.get('id')))"
      ],
      "execution_count": 72,
      "outputs": [
        {
          "output_type": "stream",
          "text": [
            "  adding: deep_checkpoints/ (stored 0%)\n",
            "  adding: deep_checkpoints/model.ckpt-301.meta (deflated 89%)\n",
            "  adding: deep_checkpoints/events.out.tfevents.1554119478.ba9886341b3e (deflated 88%)\n",
            "  adding: deep_checkpoints/checkpoint (deflated 65%)\n",
            "  adding: deep_checkpoints/model.ckpt-0.meta (deflated 89%)\n",
            "  adding: deep_checkpoints/graph.pbtxt (deflated 96%)\n",
            "  adding: deep_checkpoints/model.ckpt-0.index (deflated 56%)\n",
            "  adding: deep_checkpoints/model.ckpt-301.index (deflated 47%)\n",
            "  adding: deep_checkpoints/model.ckpt-0.data-00000-of-00001 (deflated 69%)\n",
            "  adding: deep_checkpoints/model.ckpt-301.data-00000-of-00001 (deflated 7%)\n",
            "Uploaded file with ID 1Wo8stxLTw0j_fmv37PBznnf3VI9RQThG\n"
          ],
          "name": "stdout"
        }
      ]
    },
    {
      "metadata": {
        "id": "iIxMCMpnwQ6N",
        "colab_type": "code",
        "outputId": "9bb6929c-2295-464f-864d-fc479be15891",
        "colab": {
          "base_uri": "https://localhost:8080/",
          "height": 513
        }
      },
      "cell_type": "code",
      "source": [
        "!deepspeech --model /deep_export/output_graph.pb --alphabet /DeepSpeech/data/alphabet.txt --lm /DeepSpeech/mixed-yt-echo-wiki-o5-prune2-24Jun18/lm.binary --trie /DeepSpeech/mixed-yt-echo-wiki-o5-prune2-24Jun18/trie --audio /DeepSpeech/data/tiny-dataset/tiny-test/ru_0054.wav"
      ],
      "execution_count": 0,
      "outputs": [
        {
          "output_type": "stream",
          "text": [
            "Loading model from file /deep_export/output_graph.pb\n",
            "TensorFlow: v1.13.1-8-g17f8188\n",
            "DeepSpeech: v0.5.0-alpha.4-0-gc092213\n",
            "Warning: reading entire model file into memory. Transform model file into an mmapped graph to reduce heap usage.\n",
            "2019-03-29 14:04:09.202552: I tensorflow/core/platform/cpu_feature_guard.cc:141] Your CPU supports instructions that this TensorFlow binary was not compiled to use: AVX2 FMA\n",
            "2019-03-29 14:04:09.296570: I tensorflow/stream_executor/cuda/cuda_gpu_executor.cc:998] successful NUMA node read from SysFS had negative value (-1), but there must be at least one NUMA node, so returning NUMA node zero\n",
            "2019-03-29 14:04:09.297035: I tensorflow/core/common_runtime/gpu/gpu_device.cc:1433] Found device 0 with properties: \n",
            "name: Tesla K80 major: 3 minor: 7 memoryClockRate(GHz): 0.8235\n",
            "pciBusID: 0000:00:04.0\n",
            "totalMemory: 11.17GiB freeMemory: 11.10GiB\n",
            "2019-03-29 14:04:09.297075: I tensorflow/core/common_runtime/gpu/gpu_device.cc:1512] Adding visible gpu devices: 0\n",
            "2019-03-29 14:04:09.591846: I tensorflow/core/common_runtime/gpu/gpu_device.cc:984] Device interconnect StreamExecutor with strength 1 edge matrix:\n",
            "2019-03-29 14:04:09.591920: I tensorflow/core/common_runtime/gpu/gpu_device.cc:990]      0 \n",
            "2019-03-29 14:04:09.591940: I tensorflow/core/common_runtime/gpu/gpu_device.cc:1003] 0:   N \n",
            "2019-03-29 14:04:09.592213: W tensorflow/core/common_runtime/gpu/gpu_bfc_allocator.cc:42] Overriding allow_growth setting because the TF_FORCE_GPU_ALLOW_GROWTH environment variable is set. Original config value was 0.\n",
            "2019-03-29 14:04:09.592285: I tensorflow/core/common_runtime/gpu/gpu_device.cc:1115] Created TensorFlow device (/job:localhost/replica:0/task:0/device:GPU:0 with 10764 MB memory) -> physical GPU (device: 0, name: Tesla K80, pci bus id: 0000:00:04.0, compute capability: 3.7)\n",
            "2019-03-29 14:04:09.597929: E tensorflow/core/framework/op_kernel.cc:1325] OpKernel ('op: \"UnwrapDatasetVariant\" device_type: \"CPU\"') for unknown op: UnwrapDatasetVariant\n",
            "2019-03-29 14:04:09.597979: E tensorflow/core/framework/op_kernel.cc:1325] OpKernel ('op: \"WrapDatasetVariant\" device_type: \"GPU\" host_memory_arg: \"input_handle\" host_memory_arg: \"output_handle\"') for unknown op: WrapDatasetVariant\n",
            "2019-03-29 14:04:09.598011: E tensorflow/core/framework/op_kernel.cc:1325] OpKernel ('op: \"WrapDatasetVariant\" device_type: \"CPU\"') for unknown op: WrapDatasetVariant\n",
            "2019-03-29 14:04:09.598157: E tensorflow/core/framework/op_kernel.cc:1325] OpKernel ('op: \"UnwrapDatasetVariant\" device_type: \"GPU\" host_memory_arg: \"input_handle\" host_memory_arg: \"output_handle\"') for unknown op: UnwrapDatasetVariant\n",
            "Loaded model in 0.398s.\n",
            "Loading language model from files /DeepSpeech/mixed-yt-echo-wiki-o5-prune2-24Jun18/lm.binary /DeepSpeech/mixed-yt-echo-wiki-o5-prune2-24Jun18/trie\n",
            "Error: Can't parse trie file, invalid header. Try updating your trie file.\n",
            "Loaded language model in 0.0288s.\n",
            "Running inference.\n",
            "2019-03-29 14:04:09.668214: I tensorflow/stream_executor/dso_loader.cc:152] successfully opened CUDA library libcublas.so.10.0 locally\n",
            "ёьёьпьёзёьёчёьёжёпёзёжёьёжьёьпьяьёьпьпьёьпьёьнжьёжяёьёяжьёьёьпьпьжьёжёпьнжёьжньжьжьжьжёьпьяжьёьёьжёжёжнжёжёжёжёжёжёжёжёжёжёжёжёжёжёжёжёжёьёьёьёь\n",
            "Inference took 1.544s for 6.700s audio file.\n"
          ],
          "name": "stdout"
        }
      ]
    },
    {
      "metadata": {
        "id": "1X5GyeVmsvIY",
        "colab_type": "code",
        "outputId": "40004113-be54-4983-cfad-8d83c7d2d79c",
        "colab": {
          "base_uri": "https://localhost:8080/",
          "height": 153
        }
      },
      "cell_type": "code",
      "source": [
        "# !tar xvfz samples-from-6k-dataset-28Jun18.tar.gz\n",
        "\n",
        "!tar xfvz yt-vad-650-clean.tar.gz"
      ],
      "execution_count": 0,
      "outputs": [
        {
          "output_type": "stream",
          "text": [
            "mixed-yt-echo-wiki-o5-prune2-24Jun18/\n",
            "mixed-yt-echo-wiki-o5-prune2-24Jun18/vocabulary.txt\n",
            "mixed-yt-echo-wiki-o5-prune2-24Jun18/lm.binary\n",
            "mixed-yt-echo-wiki-o5-prune2-24Jun18/trie\n",
            "mixed-yt-echo-wiki-o5-prune2-24Jun18/words.arpa\n",
            "mixed-yt-echo-wiki-o5-prune2-24Jun18/alphabet.txt\n",
            "tar: Removing leading `/' from member names\n",
            "\n"
          ],
          "name": "stdout"
        }
      ]
    },
    {
      "metadata": {
        "id": "Y9mVz7m1ekpu",
        "colab_type": "code",
        "outputId": "d8a9c4f1-1ffd-494f-d0f1-d32bfda1e81c",
        "colab": {
          "base_uri": "https://localhost:8080/",
          "height": 54
        }
      },
      "cell_type": "code",
      "source": [
        "# !ps aux | grep -v grep | grep DeepSpeech.py\n",
        "# !kill 2411"
      ],
      "execution_count": 0,
      "outputs": [
        {
          "output_type": "stream",
          "text": [
            "root        2411  182 79.2 51091456 10572332 ?   Sl   15:42  58:16 python3 -u DeepSpeech.py --train_files /datasets/yt-vad-650-clean/subsample-train.csv --dev_files /datasets/yt-vad-650-clean/subsample-dev.csv --test_files /datasets/yt-vad-650-clean/subsample-test.csv --train_batch_size 1 --dev_batch_size 1 --test_batch_size 1 --learning_rate 0.0001 --epoch 1 --display_step 0 --validation_step 1 --dropout_rate 0.3 --default_stddev 0.046875 --n_hidden 10 --checkpoint_dir /deep_checkpoints/ --export_dir /deep_export/ --log_level 2 --report_count 3 --xla=False --use_warpctc=True --lm_binary_path /DeepSpeech/mixed-yt-echo-wiki-o5-prune2-24Jun18/lm.binary\n"
          ],
          "name": "stdout"
        }
      ]
    },
    {
      "metadata": {
        "id": "lRYM9GY7EqyY",
        "colab_type": "code",
        "outputId": "222a8a87-6474-462f-fad1-b232de139dbb",
        "colab": {
          "base_uri": "https://localhost:8080/",
          "height": 306
        }
      },
      "cell_type": "code",
      "source": [
        "!nvidia-smi"
      ],
      "execution_count": 0,
      "outputs": [
        {
          "output_type": "stream",
          "text": [
            "Sat Mar 30 13:44:59 2019       \n",
            "+-----------------------------------------------------------------------------+\n",
            "| NVIDIA-SMI 418.56       Driver Version: 410.79       CUDA Version: 10.0     |\n",
            "|-------------------------------+----------------------+----------------------+\n",
            "| GPU  Name        Persistence-M| Bus-Id        Disp.A | Volatile Uncorr. ECC |\n",
            "| Fan  Temp  Perf  Pwr:Usage/Cap|         Memory-Usage | GPU-Util  Compute M. |\n",
            "|===============================+======================+======================|\n",
            "|   0  Tesla K80           Off  | 00000000:00:04.0 Off |                    0 |\n",
            "| N/A   30C    P8    29W / 149W |      0MiB / 11441MiB |      0%      Default |\n",
            "+-------------------------------+----------------------+----------------------+\n",
            "                                                                               \n",
            "+-----------------------------------------------------------------------------+\n",
            "| Processes:                                                       GPU Memory |\n",
            "|  GPU       PID   Type   Process name                             Usage      |\n",
            "|=============================================================================|\n",
            "|  No running processes found                                                 |\n",
            "+-----------------------------------------------------------------------------+\n"
          ],
          "name": "stdout"
        }
      ]
    },
    {
      "metadata": {
        "id": "GyxhLWTSEq0y",
        "colab_type": "code",
        "colab": {}
      },
      "cell_type": "code",
      "source": [
        "!bash bin/train-tiny-dataset.sh"
      ],
      "execution_count": 0,
      "outputs": []
    },
    {
      "metadata": {
        "id": "ZM7UfOGjEq3m",
        "colab_type": "code",
        "colab": {}
      },
      "cell_type": "code",
      "source": [
        "!python /DeepSpeech/DeepSpeech.py --train_files /DeepSpeech/data/tiny-dataset/tiny-train.csv --dev_files /DeepSpeech/data/tiny-dataset/tiny-dev.csv --test_files /DeepSpeech/data/tiny-dataset/tiny-test.csv"
      ],
      "execution_count": 0,
      "outputs": []
    },
    {
      "metadata": {
        "id": "YOyTDYLeEq5t",
        "colab_type": "code",
        "colab": {}
      },
      "cell_type": "code",
      "source": [
        "# !python /DeepSpeech/DeepSpeech.py --train_files /DeepSpeech/data/tiny-dataset/tiny-train.csv --dev_files /DeepSpeech/data/tiny-dataset/tiny-dev.csv --test_files /DeepSpeech/data/tiny-dataset/tiny-test.csv"
      ],
      "execution_count": 0,
      "outputs": []
    },
    {
      "metadata": {
        "id": "zKRQj0FSueN1",
        "colab_type": "code",
        "outputId": "26d4bc7e-3015-4634-b669-ecdfa1e4ebb4",
        "colab": {
          "base_uri": "https://localhost:8080/",
          "height": 68
        }
      },
      "cell_type": "code",
      "source": [
        "# this link changes every day\n",
        "# https://drive.google.com/uc?id=12WUh8REDuhOAQIISF7hBldM0mhxtDpE0&export=download\n",
        "!curl 'https://doc-08-a4-docs.googleusercontent.com/docs/securesc/k2cjvm9vil57g6ltq771ukbo5ulegnap/k6tlcgjgum46kfanmka6tgfmr0gt7bj7/1553947200000/08032243308062674117/02123041894493518740/12WUh8REDuhOAQIISF7hBldM0mhxtDpE0?e=download&nonce=08h0fk4l23ptu&user=02123041894493518740&hash=2p1bg486trla047l8c6tbaa0kajitajq' -H 'authority: doc-08-a4-docs.googleusercontent.com' -H 'upgrade-insecure-requests: 1' -H 'user-agent: Mozilla/5.0 (Macintosh; Intel Mac OS X 10_14_2) AppleWebKit/537.36 (KHTML, like Gecko) Chrome/73.0.3683.86 Safari/537.36' -H 'accept: text/html,application/xhtml+xml,application/xml;q=0.9,image/webp,image/apng,*/*;q=0.8,application/signed-exchange;v=b3' -H 'x-client-data: CIW2yQEIprbJAQjBtskBCKmdygEIqKPKAQixp8oBCOKoygEI8KnKAQiurMoB' -H 'referer: https://drive.google.com/uc?export=download&confirm=mw0k&id=12WUh8REDuhOAQIISF7hBldM0mhxtDpE0' -H 'accept-encoding: gzip, deflate, br' -H 'accept-language: ru-RU,ru;q=0.9,en-US;q=0.8,en;q=0.7' -H 'cookie: AUTH_9cv7ish6b224rq3kvehhahj324m7enso_nonce=08h0fk4l23ptu; NID=152=ffTx9sKwR1XhKRI0zz0-B7AB4tcJdfqItemY2ln2Kag4MNiNxJEmFbDSG8YJ0W9VpzFTPngnerrLqNpHqpon8NWzFuJQpu7JdV1Q6ppGvo0nkAcByeBRzD53-dosfSK8fDsp3nsjO6g3ESJh8O_omJPvjQRx9SfrvHWT1EyoKEo' --compressed > 'yt-vad-650-clean.tar.gz'"
      ],
      "execution_count": 0,
      "outputs": [
        {
          "output_type": "stream",
          "text": [
            "  % Total    % Received % Xferd  Average Speed   Time    Time     Time  Current\n",
            "                                 Dload  Upload   Total   Spent    Left  Speed\n",
            "\r  0     0    0     0    0     0      0      0 --:--:-- --:--:-- --:--:--     0\r  0     0    0     0    0     0      0      0 --:--:-- --:--:-- --:--:--     0\r  0     0    0     0    0     0      0      0 --:--:-- --:--:-- --:--:--     0\n"
          ],
          "name": "stdout"
        }
      ]
    }
  ]
}