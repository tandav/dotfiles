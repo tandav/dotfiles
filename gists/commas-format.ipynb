{
 "cells": [
  {
   "cell_type": "code",
   "execution_count": 45,
   "metadata": {},
   "outputs": [
    {
     "name": "stdout",
     "output_type": "stream",
     "text": [
      "'031adf90238ab0ee'  ,\n",
      "'fe0979f425b92b6f'  ,\n",
      "'0ef69baf19ce0975a5',\n",
      "'6f93bf158f56cdde97',\n",
      "'46c5fb378ca3be6d'  ,\n",
      "'946d6705e54471'    ,\n",
      "'225acb462be5'      ,\n",
      "'861a06ff6742d2'    ,\n",
      "'ae73527d685a3c'    ,\n",
      "'6db1ebb3b61e'      ,\n",
      "'bfa0ba636e1f'      ,\n",
      "'beaa8174c8b5a1'    ,\n",
      "'5f7129d281f488fb6e',\n",
      "'728426ad'          ,\n",
      "'c782a6215f'        ,\n"
     ]
    }
   ],
   "source": [
    "x = [\n",
    "    '031adf90238ab0ee',\n",
    "    'fe0979f425b92b6f',\n",
    "    '0ef69baf19ce0975a5',\n",
    "    '6f93bf158f56cdde97',\n",
    "    '46c5fb378ca3be6d',\n",
    "    '946d6705e54471',\n",
    "    '225acb462be5',\n",
    "    '861a06ff6742d2',\n",
    "    'ae73527d685a3c',\n",
    "    '6db1ebb3b61e',\n",
    "    'bfa0ba636e1f',\n",
    "    'beaa8174c8b5a1',\n",
    "    '5f7129d281f488fb6e',\n",
    "    '728426ad',\n",
    "    'c782a6215f',\n",
    "]\n",
    "\n",
    "max_len = max([len(s) for s in x])\n",
    "\n",
    "for s in x:\n",
    "    s0 = f\"'{s}'\"\n",
    "    s1 = s0.ljust(max_len + 2)\n",
    "    print(f'{s1},')"
   ]
  }
 ],
 "metadata": {
  "kernelspec": {
   "display_name": "Python 3",
   "language": "python",
   "name": "python3"
  },
  "language_info": {
   "codemirror_mode": {
    "name": "ipython",
    "version": 3
   },
   "file_extension": ".py",
   "mimetype": "text/x-python",
   "name": "python",
   "nbconvert_exporter": "python",
   "pygments_lexer": "ipython3",
   "version": "3.7.0"
  }
 },
 "nbformat": 4,
 "nbformat_minor": 2
}
