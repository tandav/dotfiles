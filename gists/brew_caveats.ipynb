{
 "cells": [
  {
   "cell_type": "code",
   "execution_count": 3,
   "metadata": {},
   "outputs": [],
   "source": [
    "import subprocess\n",
    "import json\n",
    "import shlex"
   ]
  },
  {
   "cell_type": "code",
   "execution_count": 17,
   "metadata": {},
   "outputs": [],
   "source": [
    "cmd = shlex.split('brew info --json=v2 --installed')\n",
    "info = json.loads(subprocess.check_output(cmd))"
   ]
  },
  {
   "cell_type": "code",
   "execution_count": 29,
   "metadata": {},
   "outputs": [
    {
     "name": "stdout",
     "output_type": "stream",
     "text": [
      "fzf\n",
      "To install useful keybindings and fuzzy completion:\n",
      "  $(brew --prefix)/opt/fzf/install\n",
      "\n",
      "To use fzf in Vim, add the following line to your .vimrc:\n",
      "  set rtp+=$(brew --prefix)/opt/fzf\n",
      "\n",
      "====================================================================================================\n",
      "gnutls\n",
      "If you are going to use the Guile bindings you will need to add the following\n",
      "to your .bashrc or equivalent in order for Guile to find the TLS certificates\n",
      "database:\n",
      "  export GUILE_TLS_CERTIFICATE_DIRECTORY=$(brew --prefix)/etc/gnutls/\n",
      "\n",
      "====================================================================================================\n",
      "guile\n",
      "Guile libraries can now be installed here:\n",
      "    Source files: $(brew --prefix)/share/guile/site/3.0\n",
      "  Compiled files: $(brew --prefix)/lib/guile/3.0/site-ccache\n",
      "      Extensions: $(brew --prefix)/lib/guile/3.0/extensions\n",
      "\n",
      "Add the following to your .bashrc or equivalent:\n",
      "  export GUILE_LOAD_PATH=\"$(brew --prefix)/share/guile/site/3.0\"\n",
      "  export GUILE_LOAD_COMPILED_PATH=\"$(brew --prefix)/lib/guile/3.0/site-ccache\"\n",
      "  export GUILE_SYSTEM_EXTENSIONS_PATH=\"$(brew --prefix)/lib/guile/3.0/extensions\"\n",
      "\n",
      "====================================================================================================\n",
      "htop\n",
      "htop requires root privileges to correctly display all running processes,\n",
      "so you will need to run `sudo htop`.\n",
      "You should be certain that you trust any software you grant root privileges.\n",
      "\n",
      "====================================================================================================\n",
      "libtool\n",
      "In order to prevent conflicts with Apple's own libtool we have prepended a \"g\"\n",
      "so, you have instead: glibtool and glibtoolize.\n",
      "\n",
      "====================================================================================================\n",
      "openssl@1.1\n",
      "A CA file has been bootstrapped using certificates from the system\n",
      "keychain. To add additional certificates, place .pem files in\n",
      "  $(brew --prefix)/etc/openssl@1.1/certs\n",
      "\n",
      "and run\n",
      "  $(brew --prefix)/opt/openssl@1.1/bin/c_rehash\n",
      "\n",
      "====================================================================================================\n",
      "python@3.9\n",
      "Python has been installed as\n",
      "  $(brew --prefix)/bin/python3\n",
      "\n",
      "Unversioned symlinks `python`, `python-config`, `pip` etc. pointing to\n",
      "`python3`, `python3-config`, `pip3` etc., respectively, have been installed into\n",
      "  $(brew --prefix)/opt/python@3.9/libexec/bin\n",
      "\n",
      "You can install Python packages with\n",
      "  pip3 install <package>\n",
      "They will install into the site-package directory\n",
      "  $(brew --prefix)/lib/python3.9/site-packages\n",
      "\n",
      "tkinter is no longer included with this formula, but it is available separately:\n",
      "  brew install python-tk@3.9\n",
      "\n",
      "See: https://docs.brew.sh/Homebrew-and-Python\n",
      "\n",
      "====================================================================================================\n",
      "tesseract\n",
      "This formula contains only the \"eng\", \"osd\", and \"snum\" language data files.\n",
      "If you need any other supported languages, run `brew install tesseract-lang`.\n",
      "\n",
      "====================================================================================================\n",
      "tmux\n",
      "Example configuration has been installed to:\n",
      "  $(brew --prefix)/opt/tmux/share/tmux\n",
      "\n",
      "====================================================================================================\n"
     ]
    }
   ],
   "source": [
    "for x in info['formulae']:\n",
    "    if caveats := x['caveats']:\n",
    "        print(x['name'])\n",
    "        print(caveats)\n",
    "        print('='*100)"
   ]
  },
  {
   "cell_type": "code",
   "execution_count": 30,
   "metadata": {},
   "outputs": [
    {
     "name": "stdout",
     "output_type": "stream",
     "text": [
      "['Google Backup and Sync']\n",
      "Although google-backup-and-sync may be installed alongside google-drive-file-stream, you should not use the same account with both.\n",
      "\n",
      "  https://support.google.com/a/answer/7496409#allowboth\n",
      "\n",
      "====================================================================================================\n",
      "['macFUSE']\n",
      "macfuse requires a kernel extension to work.\n",
      "If the installation fails, retry after you enable it in:\n",
      "  System Preferences → Security & Privacy → General\n",
      "\n",
      "For more information, refer to vendor documentation or this Apple Technical Note:\n",
      "  https://developer.apple.com/library/content/technotes/tn2459/_index.html\n",
      "\n",
      "====================================================================================================\n",
      "['Oracle Java Standard Edition Development Kit']\n",
      "Installing oracle-jdk means you have AGREED to the license at:\n",
      "  https://www.oracle.com/technetwork/java/javase/terms/license/javase-license.html\n",
      "\n",
      "====================================================================================================\n",
      "['Oracle VirtualBox']\n",
      "virtualbox requires a kernel extension to work.\n",
      "If the installation fails, retry after you enable it in:\n",
      "  System Preferences → Security & Privacy → General\n",
      "\n",
      "For more information, refer to vendor documentation or this Apple Technical Note:\n",
      "  https://developer.apple.com/library/content/technotes/tn2459/_index.html\n",
      "\n",
      "====================================================================================================\n",
      "['VMware Fusion']\n",
      "vmware-fusion requires a kernel extension to work.\n",
      "If the installation fails, retry after you enable it in:\n",
      "  System Preferences → Security & Privacy → General\n",
      "\n",
      "For more information, refer to vendor documentation or this Apple Technical Note:\n",
      "  https://developer.apple.com/library/content/technotes/tn2459/_index.html\n",
      "\n",
      "====================================================================================================\n",
      "['Vorta']\n",
      "vorta requires BorgBackup to run. If you do not need mount support, use the official formula:\n",
      "\n",
      "  brew install borgbackup\n",
      "\n",
      "If you plan on mounting archives using macFUSE, consider using the Tap maintained by the Borg team:\n",
      "\n",
      "  brew install --cask macfuse\n",
      "  brew install borgbackup/tap/borgbackup-fuse\n",
      "\n",
      "====================================================================================================\n"
     ]
    }
   ],
   "source": [
    "for x in info['casks']:\n",
    "    if caveats := x['caveats']:\n",
    "        print(x['name'])\n",
    "        print(caveats)\n",
    "        print('='*100)"
   ]
  },
  {
   "cell_type": "code",
   "execution_count": null,
   "metadata": {},
   "outputs": [],
   "source": []
  }
 ],
 "metadata": {
  "kernelspec": {
   "display_name": "Python 3",
   "language": "python",
   "name": "python3"
  },
  "language_info": {
   "codemirror_mode": {
    "name": "ipython",
    "version": 3
   },
   "file_extension": ".py",
   "mimetype": "text/x-python",
   "name": "python",
   "nbconvert_exporter": "python",
   "pygments_lexer": "ipython3",
   "version": "3.9.5"
  }
 },
 "nbformat": 4,
 "nbformat_minor": 4
}
